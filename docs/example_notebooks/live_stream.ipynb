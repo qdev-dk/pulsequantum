{
 "cells": [
  {
   "cell_type": "code",
   "execution_count": null,
   "source": [
    "from pulsequantum.livestream.livestream import LiveStream\r\n",
    "from pulsequantum.livestream.example_instruments import FilterInstrument\r\n"
   ],
   "outputs": [],
   "metadata": {}
  },
  {
   "cell_type": "code",
   "execution_count": null,
   "source": [
    "#Initialize the instruments\r\n",
    "filt_instrumment = FilterInstrument(\"filter\")"
   ],
   "outputs": [],
   "metadata": {}
  },
  {
   "cell_type": "code",
   "execution_count": null,
   "source": [
    "voltagecontrolwidget={'phase_x': (filt_instrumment.phase_x,0.1,0),\r\n",
    "                      'phase_y': (filt_instrumment.phase_y,0.1,0)}"
   ],
   "outputs": [],
   "metadata": {}
  },
  {
   "cell_type": "code",
   "execution_count": null,
   "source": [
    "#Launch tornade server and refresh it periodicly\r\n",
    "#test_org = LiveStream(data_func=filt_instrumment.spectrum,sliders=sliders,port=12344, refresh_period=50)\r\n",
    "#test_noise = LiveStream(data_func=filt_instrumment.spectrum_noise,sliders=sliders,port=12345, refresh_period=50)\r\n",
    "#test_filter = LiveStream(data_func=filt_instrumment.spectrum_filt,sliders=sliders,voltagecontrolwidget=voltagecontrolwidget, port=12325, refresh_period=500)\r\n",
    "test_filter = LiveStream(data_func=filt_instrumment.spectrum_and_noise,voltagecontrolwidget=voltagecontrolwidget, port=12836, refresh_period=500)"
   ],
   "outputs": [],
   "metadata": {}
  },
  {
   "cell_type": "code",
   "execution_count": null,
   "source": [
    "test_filter.set_colobar_scale()"
   ],
   "outputs": [],
   "metadata": {}
  },
  {
   "cell_type": "code",
   "execution_count": null,
   "source": [
    "test_filter.gridspec.grid"
   ],
   "outputs": [],
   "metadata": {}
  },
  {
   "cell_type": "code",
   "execution_count": null,
   "source": [],
   "outputs": [],
   "metadata": {}
  }
 ],
 "metadata": {
  "interpreter": {
   "hash": "d7d622aef4596e29de35753fcf4492996b245048124d616a2b8de5b2574bce79"
  },
  "kernelspec": {
   "name": "python3",
   "display_name": "Python 3.7.5 64-bit ('livestream': conda)"
  },
  "language_info": {
   "codemirror_mode": {
    "name": "ipython",
    "version": 3
   },
   "file_extension": ".py",
   "mimetype": "text/x-python",
   "name": "python",
   "nbconvert_exporter": "python",
   "pygments_lexer": "ipython3",
   "version": "3.7.5"
  }
 },
 "nbformat": 4,
 "nbformat_minor": 5
}